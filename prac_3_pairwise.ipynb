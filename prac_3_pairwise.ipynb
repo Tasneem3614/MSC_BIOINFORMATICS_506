{
  "nbformat": 4,
  "nbformat_minor": 0,
  "metadata": {
    "colab": {
      "provenance": [],
      "authorship_tag": "ABX9TyNZeKBj/nVsL0fkqKNfdQbC",
      "include_colab_link": true
    },
    "kernelspec": {
      "name": "python3",
      "display_name": "Python 3"
    },
    "language_info": {
      "name": "python"
    }
  },
  "cells": [
    {
      "cell_type": "markdown",
      "metadata": {
        "id": "view-in-github",
        "colab_type": "text"
      },
      "source": [
        "<a href=\"https://colab.research.google.com/github/Tasneem3614/MSC_BIOINFORMATICS_506/blob/main/prac_3_pairwise.ipynb\" target=\"_parent\"><img src=\"https://colab.research.google.com/assets/colab-badge.svg\" alt=\"Open In Colab\"/></a>"
      ]
    },
    {
      "cell_type": "code",
      "execution_count": 1,
      "metadata": {
        "colab": {
          "base_uri": "https://localhost:8080/"
        },
        "id": "BaPfU9pkvqTx",
        "outputId": "73d8fff1-667e-493d-ea68-2d4f26495788"
      },
      "outputs": [
        {
          "output_type": "stream",
          "name": "stdout",
          "text": [
            "Enter the first sequence::abcvfc\n",
            "Enter the second sequence::abbcvf\n",
            "\n",
            "['a', 'b', 'c', 'v', 'f', 'c']\n",
            "['a', 'b', 'b', 'c', 'v', 'f']\n",
            "['1', '1', '0', '0', '0', '0']\n",
            "2\n"
          ]
        }
      ],
      "source": [
        "se1=input(\"Enter the first sequence::\") \n",
        "se2=input(\"Enter the second sequence::\") \n",
        "seq1=list(se1) \n",
        "seq2=list(se2) \n",
        "score=[] \n",
        "def Pairwise_alignment(a,b): \n",
        " gap(a,b) \n",
        " print(a) \n",
        " print(b) \n",
        " value=0 \n",
        " length=len(a) \n",
        " for i in range(0,length):\n",
        "     if(a[i]==b[i]):\n",
        "         score.append('1')\n",
        "         value=value+1\n",
        "     else: \n",
        "         score.append('0') \n",
        " print(score) \n",
        " print(value) \n",
        "def gap(a,b): \n",
        " if(len(a)==len(b)): \n",
        "    print() \n",
        " else:\n",
        "     k=int(input(\"enter the position to insert::\"))\n",
        "     if (len(a)<len(b)):\n",
        "         a.insert(k,'-')\n",
        "     else:\n",
        "         b.insert(k,'-') \n",
        " return(a,b) \n",
        "Pairwise_alignment(seq1,seq2) "
      ]
    }
  ]
}