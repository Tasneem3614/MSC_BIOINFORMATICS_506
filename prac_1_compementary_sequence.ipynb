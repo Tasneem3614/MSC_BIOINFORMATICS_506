{
  "nbformat": 4,
  "nbformat_minor": 0,
  "metadata": {
    "colab": {
      "provenance": [],
      "authorship_tag": "ABX9TyOfeFp+lzY77fb16MA/9tBi",
      "include_colab_link": true
    },
    "kernelspec": {
      "name": "python3",
      "display_name": "Python 3"
    },
    "language_info": {
      "name": "python"
    }
  },
  "cells": [
    {
      "cell_type": "markdown",
      "metadata": {
        "id": "view-in-github",
        "colab_type": "text"
      },
      "source": [
        "<a href=\"https://colab.research.google.com/github/Tasneem3614/MSC_BIOINFORMATICS_506/blob/main/prac_1_compementary_sequence.ipynb\" target=\"_parent\"><img src=\"https://colab.research.google.com/assets/colab-badge.svg\" alt=\"Open In Colab\"/></a>"
      ]
    },
    {
      "cell_type": "code",
      "execution_count": 1,
      "metadata": {
        "colab": {
          "base_uri": "https://localhost:8080/"
        },
        "id": "190773ddu8SG",
        "outputId": "2dc87b28-1ffb-444f-f20c-3da4095942f2"
      },
      "outputs": [
        {
          "output_type": "stream",
          "name": "stdout",
          "text": [
            "DNA strand is: GGTACTTGCCAT\n",
            "complementary strand is: CCATGAACGGTA\n"
          ]
        }
      ],
      "source": [
        "def complementary_strand_find(dna_strand):\n",
        " \n",
        "    complementary_strand = \"\"\n",
        " \n",
        "    for base in dna_strand:\n",
        " \n",
        "        if base == \"A\" :\n",
        "            complementary_strand += \"T\"\n",
        " \n",
        "        elif base == \"T\" :\n",
        "            complementary_strand += \"A\"\n",
        " \n",
        "        elif base == \"U\" :\n",
        "            complementary_strand += \"A\"\n",
        " \n",
        "        elif base == \"G\" :\n",
        "            complementary_strand += \"C\"\n",
        " \n",
        "        elif base == \"C\" :\n",
        "            complementary_strand += \"G\"\n",
        " \n",
        "        elif base == \"Y\" :\n",
        "            complementary_strand += \"R\"\n",
        " \n",
        "        elif base == \"R\" :\n",
        "            complementary_strand += \"Y\"\n",
        " \n",
        "        else :\n",
        "            print(\"Wrong input\")\n",
        " \n",
        "            complementary_strand = None\n",
        "             \n",
        "\n",
        "            break\n",
        " \n",
        "\n",
        "    return complementary_strand\n",
        " \n",
        "\n",
        "if __name__ == \"__main__\":\n",
        " \n",
        "  dna_strand = \"GGTACTTGCCAT\"\n",
        "print(\"DNA strand is:\",\n",
        "          dna_strand)\n",
        " \n",
        "print(\"complementary strand is:\",\n",
        "          complementary_strand_find(dna_strand))"
      ]
    }
  ]
}