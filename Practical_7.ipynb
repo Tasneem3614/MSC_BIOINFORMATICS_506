{
  "nbformat": 4,
  "nbformat_minor": 0,
  "metadata": {
    "colab": {
      "provenance": [],
      "include_colab_link": true
    },
    "kernelspec": {
      "name": "python3",
      "display_name": "Python 3"
    },
    "language_info": {
      "name": "python"
    }
  },
  "cells": [
    {
      "cell_type": "markdown",
      "metadata": {
        "id": "view-in-github",
        "colab_type": "text"
      },
      "source": [
        "<a href=\"https://colab.research.google.com/github/Tasneem3614/MSC_BIOINFORMATICS_506/blob/main/Practical_7.ipynb\" target=\"_parent\"><img src=\"https://colab.research.google.com/assets/colab-badge.svg\" alt=\"Open In Colab\"/></a>"
      ]
    },
    {
      "cell_type": "code",
      "execution_count": null,
      "metadata": {
        "colab": {
          "base_uri": "https://localhost:8080/"
        },
        "id": "QWXaG0Rutqme",
        "outputId": "a4159cf9-703f-4ff6-b6f2-85f052cf0ff6"
      },
      "outputs": [
        {
          "output_type": "stream",
          "name": "stdout",
          "text": [
            "score of A is  7\n",
            "score of C is  3\n",
            "score of T is  4\n",
            "score of G is  7\n"
          ]
        }
      ],
      "source": [
        "file=open(\"genes.txt\",\"r\")\n",
        "r=file.read()\n",
        "size=len(r)\n",
        "score_A=0\n",
        "score_C=0\n",
        "score_T=0\n",
        "score_G=0\n",
        "for i in range(size):\n",
        "    if(r[i]=='A'):\n",
        "        score_A+=1\n",
        "    elif (r[i]=='C'):\n",
        "        score_C+=1\n",
        "    elif (r[i]=='T'):\n",
        "        score_T+=1\n",
        "    elif (r[i]=='G'):\n",
        "        score_G+=1\n",
        "print(\"score of A is \",score_A)\n",
        "print(\"score of C is \",score_C)\n",
        "print(\"score of T is \",score_T)\n",
        "print(\"score of G is \",score_G)"
      ]
    }
  ]
}