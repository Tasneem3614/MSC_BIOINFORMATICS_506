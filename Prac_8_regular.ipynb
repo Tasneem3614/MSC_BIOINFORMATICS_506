{
  "nbformat": 4,
  "nbformat_minor": 0,
  "metadata": {
    "colab": {
      "provenance": [],
      "include_colab_link": true
    },
    "kernelspec": {
      "name": "python3",
      "display_name": "Python 3"
    },
    "language_info": {
      "name": "python"
    }
  },
  "cells": [
    {
      "cell_type": "markdown",
      "metadata": {
        "id": "view-in-github",
        "colab_type": "text"
      },
      "source": [
        "<a href=\"https://colab.research.google.com/github/Tasneem3614/MSC_BIOINFORMATICS_506/blob/main/Prac_8_regular.ipynb\" target=\"_parent\"><img src=\"https://colab.research.google.com/assets/colab-badge.svg\" alt=\"Open In Colab\"/></a>"
      ]
    },
    {
      "cell_type": "code",
      "execution_count": null,
      "metadata": {
        "colab": {
          "base_uri": "https://localhost:8080/"
        },
        "id": "QWXaG0Rutqme",
        "outputId": "834bb51f-9765-4ed5-de63-a74c55ca385f"
      },
      "outputs": [
        {
          "output_type": "stream",
          "name": "stdout",
          "text": [
            "Enter the number of sequence: 3\n",
            "Enter all the sequences\n",
            "A D L G A V F A L C D R Y F Q\n",
            "S D V G P R S C F C E R F Y Q\n",
            "A D L G R T Q L R C D R Y Y Q\n",
            "AS-D-VL-G-x-x-x-x-x-C-DE-R-FY-FY-Q\n"
          ]
        }
      ],
      "source": [
        "def gen_reg_exp(seq_list, no_of_col):\n",
        "      final_list=[]\n",
        "      for colnum in range(no_of_col):\n",
        "            collist=[]\n",
        "            for colseq in seq_list:\n",
        "                  collist.append(colseq[colnum])\n",
        "            if len(set(collist))==len(collist):\n",
        "                  #print(final_list)\n",
        "                  final_list.append('x')\n",
        "            else:\n",
        "                  if len(set(collist))==1:\n",
        "                         final_list.append(collist[0])\n",
        "                  else:\n",
        "                        final_list.append(''.join(set(collist)))\n",
        "      display_output(final_list)\n",
        "def display_output(final_list):\n",
        "      print(*final_list, sep='-')\n",
        "no_of_seq=int(input(\"Enter the number of sequence: \"))\n",
        "print(\"Enter all the sequences\")\n",
        "seq_list=[]\n",
        "for _ in range(no_of_seq):\n",
        "      seq_list.append(list(map(str, input(\"\").split())))\n",
        "gen_reg_exp(seq_list, len(seq_list[0]))"
      ]
    }
  ]
}