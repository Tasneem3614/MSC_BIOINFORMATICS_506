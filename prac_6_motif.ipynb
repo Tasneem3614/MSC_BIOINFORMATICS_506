{
  "nbformat": 4,
  "nbformat_minor": 0,
  "metadata": {
    "colab": {
      "provenance": [],
      "authorship_tag": "ABX9TyP4J6YEU8fxy+Mvf9vu5yho",
      "include_colab_link": true
    },
    "kernelspec": {
      "name": "python3",
      "display_name": "Python 3"
    },
    "language_info": {
      "name": "python"
    }
  },
  "cells": [
    {
      "cell_type": "markdown",
      "metadata": {
        "id": "view-in-github",
        "colab_type": "text"
      },
      "source": [
        "<a href=\"https://colab.research.google.com/github/Tasneem3614/MSC_BIOINFORMATICS_506/blob/main/prac_6_motif.ipynb\" target=\"_parent\"><img src=\"https://colab.research.google.com/assets/colab-badge.svg\" alt=\"Open In Colab\"/></a>"
      ]
    },
    {
      "cell_type": "code",
      "execution_count": null,
      "metadata": {
        "colab": {
          "base_uri": "https://localhost:8080/"
        },
        "id": "Hjgg13hsxNKd",
        "outputId": "b72d18fd-74a7-4917-8cab-1db1c0b49feb"
      },
      "outputs": [
        {
          "output_type": "stream",
          "name": "stdout",
          "text": [
            "Enter the length of motif4\n",
            "Sequence hiiiii\n",
            "Size of the sequence 6\n",
            "Position 0\n",
            "Motif hiii\n"
          ]
        }
      ],
      "source": [
        "import random \n",
        "l=int(input(\"Enter the length of motif\")) \n",
        "file=open(\"mot.txt\",\"r\") \n",
        "r=file.read() \n",
        "print(\"Sequence\",r) \n",
        "size=len(r) \n",
        "print(\"Size of the sequence\",size) \n",
        "pos=random.randint(0,len(r)-5) \n",
        "#pos=1 \n",
        "print(\"Position\",pos) \n",
        "motif=r[pos:pos+l] \n",
        "print(\"Motif\",motif) \n",
        "i=pos+1\n",
        "while(i<=size-1):\n",
        "    if(motif==r[i:i+1]):\n",
        "        str1=r[i:i+1]\n",
        "        print(\"Match motif\",str1)\n",
        "        file1=open(\"motoutput.txt\",\"a\")\n",
        "        file1.write(str1+\" \") \n",
        "i+=1 "
      ]
    }
  ]
}