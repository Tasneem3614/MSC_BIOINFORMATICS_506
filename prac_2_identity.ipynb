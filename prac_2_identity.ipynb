{
  "nbformat": 4,
  "nbformat_minor": 0,
  "metadata": {
    "colab": {
      "provenance": [],
      "authorship_tag": "ABX9TyMQP5Kwca64ZYBCqdl5h7NI",
      "include_colab_link": true
    },
    "kernelspec": {
      "name": "python3",
      "display_name": "Python 3"
    },
    "language_info": {
      "name": "python"
    }
  },
  "cells": [
    {
      "cell_type": "markdown",
      "metadata": {
        "id": "view-in-github",
        "colab_type": "text"
      },
      "source": [
        "<a href=\"https://colab.research.google.com/github/Tasneem3614/MSC_BIOINFORMATICS_506/blob/main/prac_2_identity.ipynb\" target=\"_parent\"><img src=\"https://colab.research.google.com/assets/colab-badge.svg\" alt=\"Open In Colab\"/></a>"
      ]
    },
    {
      "cell_type": "code",
      "execution_count": 1,
      "metadata": {
        "colab": {
          "base_uri": "https://localhost:8080/"
        },
        "id": "QWXaG0Rutqme",
        "outputId": "4a5f78a4-dac5-4c98-bd57-e003019ae991"
      },
      "outputs": [
        {
          "output_type": "stream",
          "name": "stdout",
          "text": [
            "Enter the first sequence::abcvfdg\n",
            "Enter the second sequence::abvgcfd\n",
            "\n",
            "['a', 'b', 'c', 'v', 'f', 'd', 'g']\n",
            "['a', 'b', 'v', 'g', 'c', 'f', 'd']\n",
            "Matching Score:: 7\n",
            "Identity of the sequences:: 14.285714285714285\n"
          ]
        }
      ],
      "source": [
        "se1=input(\"Enter the first sequence::\") \n",
        "se2=input(\"Enter the second sequence::\") \n",
        "seq1=list(se1) \n",
        "seq2=list(se2) \n",
        "def find_identity(a,b): \n",
        " gap(a,b) \n",
        " print(a) \n",
        " print(b) \n",
        " score=0 \n",
        " length=len(a) \n",
        " total_elements=len(a)*len(b) \n",
        " for i in range(0,length):\n",
        "     for j in range(0,length):\n",
        "         if(a[i]==b[j]):\n",
        "             score=score+1 \n",
        " identity=(score/total_elements)*100 \n",
        " print(\"Matching Score::\",score) \n",
        " print(\"Identity of the sequences::\",identity) \n",
        "def gap(a,b): \n",
        " if(len(a)==len(b)):\n",
        "     print()\n",
        " else:\n",
        "     k=int(input(\"enter the position to insert gap ::\"))\n",
        "     if (len(a)<len(b)):\n",
        "         a.insert(k,'-')\n",
        "     else:\n",
        "         b.insert(k,'-')\n",
        " return(a,b) \n",
        "find_identity(seq1,seq2) "
      ]
    }
  ]
}